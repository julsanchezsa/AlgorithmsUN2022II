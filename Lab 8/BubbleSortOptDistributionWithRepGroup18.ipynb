{
  "nbformat": 4,
  "nbformat_minor": 0,
  "metadata": {
    "colab": {
      "provenance": [],
      "collapsed_sections": [],
      "include_colab_link": true
    },
    "kernelspec": {
      "name": "python3",
      "display_name": "Python 3"
    },
    "language_info": {
      "name": "python"
    }
  },
  "cells": [
    {
      "cell_type": "markdown",
      "metadata": {
        "id": "view-in-github",
        "colab_type": "text"
      },
      "source": [
        "<a href=\"https://colab.research.google.com/github/jyarac/AlgorithmsUN2022II/blob/main/Lab8/BubbleSortOptDistributionWithRepGroup18.ipynb\" target=\"_parent\"><img src=\"https://colab.research.google.com/assets/colab-badge.svg\" alt=\"Open In Colab\"/></a>"
      ]
    },
    {
      "cell_type": "code",
      "metadata": {
        "id": "aWZG5ajQ3wT7"
      },
      "source": [
        "\n",
        "def bubbleSortOptAllCounters(array):\n",
        "  comps = 0\n",
        "  swaps = 0\n",
        "  steps = 0\n",
        "  passes = 0 \n",
        "  n = len(array)\n",
        "  # loop through each element of array\n",
        "  for i in range(len(array)):\n",
        "    passes +=1\n",
        "    # keep track of swapping\n",
        "    swapped = False\n",
        "    \n",
        "    # loop to compare array elements\n",
        "    for j in range(0, len(array) - i - 1):\n",
        "\n",
        "      # compare two adjacent elements\n",
        "      # change > to < to sort in descending order\n",
        "      comps +=1\n",
        "      if array[j] > array[j + 1]:\n",
        "\n",
        "        # swapping occurs if elements\n",
        "        # are not in the intended order\n",
        "        temp = array[j]\n",
        "        array[j] = array[j+1]\n",
        "        array[j+1] = temp\n",
        "        swaps +=1\n",
        "        swapped = True\n",
        "          \n",
        "    # no swapping means the array is already sorted\n",
        "    # so no need for further comparison\n",
        "    if not swapped:\n",
        "      break\n",
        "  steps = comps + swaps          \n",
        "  return(comps,swaps,steps,passes)"
      ],
      "execution_count": 5,
      "outputs": []
    },
    {
      "cell_type": "code",
      "source": [
        "def maxinversions(arr):\n",
        "  maxinv = 0\n",
        "  n = len(arr) \n",
        "  for i in range(n-1):\n",
        "    inv = 0\n",
        "    for j in range(i+1,n):\n",
        "      if arr[j] < arr[i]:\n",
        "        inv +=1\n",
        "    if inv > maxinv:\n",
        "      maxinv = inv\n",
        "  return maxinv\n"
      ],
      "metadata": {
        "id": "HUFVO5ymVauz"
      },
      "execution_count": 6,
      "outputs": []
    },
    {
      "cell_type": "code",
      "metadata": {
        "colab": {
          "base_uri": "https://localhost:8080/",
          "height": 1000
        },
        "id": "A-R_ThOW_rLs",
        "outputId": "e6ab6e3f-37d0-4f35-853a-5427e32cd794"
      },
      "source": [
        "from itertools import product\n",
        "import matplotlib.pyplot as plt\n",
        "import numpy as np \n",
        "import math\n",
        "\n",
        "n = 3\n",
        "perm = product(range(1,n+1), repeat = n)\n",
        "\n",
        "comps = []\n",
        "swaps = []\n",
        "steps = []\n",
        "passes = [] \n",
        "maxinvs = []\n",
        "\n",
        "# Print the obtained permutations\n",
        "for i in perm:\n",
        "    i = list(i)\n",
        "    maxinvs.append(maxinversions(i))\n",
        "    c,sw,st,p = bubbleSortOptAllCounters(i)\n",
        "    comps.append(c)\n",
        "    swaps.append(sw)\n",
        "    steps.append(st)\n",
        "    passes.append(p)\n",
        "\n",
        "print(\"n\",n)  \n",
        "print(\"number of permutations n! =\",math.factorial(n)) \n",
        "print()\n",
        "   \n",
        "b = np.array(range(min(maxinvs)-1,max(maxinvs)+2) ) +0.5\n",
        "plt.hist(maxinvs,bins=b, color=\"cyan\")\n",
        "plt.title(\"Bubble Sort Maximun number of inversions\")\n",
        "plt.xlabel(\"Maximun number of inversions \")\n",
        "plt.ylabel(\"Frequency\")\n",
        "plt.show()\n",
        "\n",
        "print(\"Maximun number of inversions\") \n",
        "print(\"Maximun number of inversions exper min =\",min(maxinvs))\n",
        "print(\"Maximun number of inversions formula min = 0\")\n",
        "print(\"Maximun number of inversions exper max =\",max(maxinvs))\n",
        "print(\"Maximun number of inversions formula max n-1 =\",n-1)\n",
        "print(\"Maximun number of inversions exper mean =\",np.mean(maxinvs))\n",
        "print(\"Maximun number of inversions formula mean  n- math.sqrt(math.pi*n/2)=\",n- math.sqrt(math.pi*n/2))\n",
        "print(\"Maximun number of inversions exper stdev =\",np.std(maxinvs))\n",
        "print()\n",
        "\n",
        "b = np.array(range(min(comps)-1,max(comps)+2) ) +0.5\n",
        "plt.hist(comps,bins=b, color=\"red\")\n",
        "plt.title(\"Bubble Sort Comparisons\")\n",
        "plt.xlabel(\"Comparisons \")\n",
        "plt.ylabel(\"Frequency\")\n",
        "plt.show()\n",
        "\n",
        "print(\"Comparisons\") \n",
        "print(\"Comparisons formula (n-1)*n/2 =\",(n-1)*n/2)\n",
        "print(\"Comparisons exper min =\",min(comps))\n",
        "print(\"Comparisonsexper max =\",max(comps))\n",
        "print(\"Comparisons exper mean =\",np.mean(comps))\n",
        "print(\"Comparisons exper stdev =\",np.std(comps))\n",
        "print()\n",
        "\n",
        "b = np.array(range(min(swaps)-1,max(swaps)+2) ) +0.5\n",
        "plt.hist(swaps,bins=b,color=\"blue\")\n",
        "plt.title(\"Bubble Sort Swaps\")\n",
        "plt.xlabel(\"Swaps \")\n",
        "plt.ylabel(\"Frequency\")\n",
        "plt.show()\n",
        "\n",
        "print(\"Swaps\") \n",
        "print(\"Swaps exper min =\",min(swaps))\n",
        "print(\"Swaps min formula = 0\")\n",
        "print(\"Swaps exper max =\",max(swaps))\n",
        "print(\"Swaps max formula (n-1)*n/2 =\",(n-1)*n/2)\n",
        "print(\"Swaps exper mean =\",np.mean(swaps))\n",
        "print(\"Swaps mean formula (1/4*n**2)- (1/2*n)+(1/4) =\",(1/4*n**2)- (1/2*n)+(1/4))\n",
        "print(\"Swaps exper stdev =\",np.std(swaps))\n",
        "print()\n",
        "\n",
        "b = np.array(range(min(steps)-1,max(steps)+2) ) +0.5\n",
        "plt.hist(steps,bins=b,color=\"green\")\n",
        "plt.title(\"Bubble Sort Steps\")\n",
        "plt.xlabel(\"Steps \")\n",
        "plt.ylabel(\"Frequency\")\n",
        "plt.show()\n",
        "\n",
        "print(\"Steps\") \n",
        "print(\"Steps exper min =\",min(steps))\n",
        "print(\"Steps min formula (n-1)*n/2 =\",(n-1)*n/2)\n",
        "print(\"Steps exper max =\",max(steps))\n",
        "print(\"Steps max formula (n-1)*n =\",(n-1)*n)\n",
        "print(\"Steps exper mean =\",np.mean(steps))\n",
        "print(\"Steps mean formula (3/4*n**2)-n+(1/4) =\",(3/4*n**2)-n+(1/4))\n",
        "print(\"Steps exper stdev\",np.std(steps))\n",
        "print()\n",
        "\n",
        "b = np.array(range(min(passes)-1,max(passes)+2) ) +0.5\n",
        "plt.hist(passes,bins=b,color=\"brown\")\n",
        "plt.title(\"Bubble Sort Passes\")\n",
        "plt.xlabel(\"Passes\")\n",
        "plt.ylabel(\"Frequency\")\n",
        "plt.show()\n",
        "    \n",
        "print(\"Passes\") \n",
        "print(\"Passes formula (n-1) =\",(n-1))\n",
        "print(\"Passes exper min =\",min(passes))\n",
        "print(\"Passes exper max =\",max(passes))\n",
        "print(\"Passes exper mean =\",np.mean(passes))\n",
        "print(\"Passes exper stdev\",np.std(passes))"
      ],
      "execution_count": 7,
      "outputs": [
        {
          "output_type": "stream",
          "name": "stdout",
          "text": [
            "n 3\n",
            "number of permutations n! = 6\n",
            "\n"
          ]
        },
        {
          "output_type": "display_data",
          "data": {
            "text/plain": [
              "<Figure size 432x288 with 1 Axes>"
            ],
            "image/png": "[encoded data removed]"
          },
          "metadata": {
            "needs_background": "light"
          }
        },
        {
          "output_type": "stream",
          "name": "stdout",
          "text": [
            "Maximun number of inversions\n",
            "Maximun number of inversions exper min = 0\n",
            "Maximun number of inversions formula min = 0\n",
            "Maximun number of inversions exper max = 2\n",
            "Maximun number of inversions formula max n-1 = 2\n",
            "Maximun number of inversions exper mean = 0.8148148148148148\n",
            "Maximun number of inversions formula mean  n- math.sqrt(math.pi*n/2)= 0.8291962363251972\n",
            "Maximun number of inversions exper stdev = 0.7219847662821455\n",
            "\n"
          ]
        },
        {
          "output_type": "display_data",
          "data": {
            "text/plain": [
              "<Figure size 432x288 with 1 Axes>"
            ],
            "image/png": "[encoded data removed]"
          },
          "metadata": {
            "needs_background": "light"
          }
        },
        {
          "output_type": "stream",
          "name": "stdout",
          "text": [
            "Comparisons\n",
            "Comparisons formula (n-1)*n/2 = 3.0\n",
            "Comparisons exper min = 2\n",
            "Comparisonsexper max = 3\n",
            "Comparisons exper mean = 2.6296296296296298\n",
            "Comparisons exper stdev = 0.4829038818668629\n",
            "\n"
          ]
        },
        {
          "output_type": "display_data",
          "data": {
            "text/plain": [
              "<Figure size 432x288 with 1 Axes>"
            ],
            "image/png": "[encoded data removed]"
          },
          "metadata": {
            "needs_background": "light"
          }
        },
        {
          "output_type": "stream",
          "name": "stdout",
          "text": [
            "Swaps\n",
            "Swaps exper min = 0\n",
            "Swaps min formula = 0\n",
            "Swaps exper max = 3\n",
            "Swaps max formula (n-1)*n/2 = 3.0\n",
            "Swaps exper mean = 1.0\n",
            "Swaps mean formula (1/4*n**2)- (1/2*n)+(1/4) = 1.0\n",
            "Swaps exper stdev = 0.90267093384844\n",
            "\n"
          ]
        },
        {
          "output_type": "display_data",
          "data": {
            "text/plain": [
              "<Figure size 432x288 with 1 Axes>"
            ],
            "image/png": "[encoded data removed]"
          },
          "metadata": {
            "needs_background": "light"
          }
        },
        {
          "output_type": "stream",
          "name": "stdout",
          "text": [
            "Steps\n",
            "Steps exper min = 2\n",
            "Steps min formula (n-1)*n/2 = 3.0\n",
            "Steps exper max = 6\n",
            "Steps max formula (n-1)*n = 6\n",
            "Steps exper mean = 3.6296296296296298\n",
            "Steps mean formula (3/4*n**2)-n+(1/4) = 4.0\n",
            "Steps exper stdev 1.3374422285383547\n",
            "\n"
          ]
        },
        {
          "output_type": "display_data",
          "data": {
            "text/plain": [
              "<Figure size 432x288 with 1 Axes>"
            ],
            "image/png": "[encoded data removed]"
          },
          "metadata": {
            "needs_background": "light"
          }
        },
        {
          "output_type": "stream",
          "name": "stdout",
          "text": [
            "Passes\n",
            "Passes formula (n-1) = 2\n",
            "Passes exper min = 1\n",
            "Passes exper max = 3\n",
            "Passes exper mean = 1.8148148148148149\n",
            "Passes exper stdev 0.7219847662821455\n"
          ]
        }
      ]
    },
    {
      "cell_type": "code",
      "metadata": {
        "colab": {
          "base_uri": "https://localhost:8080/",
          "height": 1000
        },
        "id": "Iu0lbbBrABDr",
        "outputId": "71f942ad-9934-4d67-d9b7-a91915e0a945"
      },
      "source": [
        "from itertools import product\n",
        "import matplotlib.pyplot as plt\n",
        "import numpy as np \n",
        "import math\n",
        "\n",
        "n = 5\n",
        "perm = product(range(1,n+1), repeat = n)\n",
        "\n",
        "comps = []\n",
        "swaps = []\n",
        "steps = []\n",
        "passes = [] \n",
        "maxinvs = []\n",
        "\n",
        "# Print the obtained permutations\n",
        "for i in perm:\n",
        "    i = list(i)\n",
        "    maxinvs.append(maxinversions(i))\n",
        "    c,sw,st,p = bubbleSortOptAllCounters(i)\n",
        "    comps.append(c)\n",
        "    swaps.append(sw)\n",
        "    steps.append(st)\n",
        "    passes.append(p)\n",
        "\n",
        "print(\"n\",n)  \n",
        "print(\"number of permutations n! =\",math.factorial(n)) \n",
        "print()\n",
        "   \n",
        "b = np.array(range(min(maxinvs)-1,max(maxinvs)+2) ) +0.5\n",
        "plt.hist(maxinvs,bins=b, color=\"cyan\")\n",
        "plt.title(\"Bubble Sort Maximun number of inversions\")\n",
        "plt.xlabel(\"Maximun number of inversions \")\n",
        "plt.ylabel(\"Frequency\")\n",
        "plt.show()\n",
        "\n",
        "print(\"Maximun number of inversions\") \n",
        "print(\"Maximun number of inversions exper min =\",min(maxinvs))\n",
        "print(\"Maximun number of inversions formula min = 0\")\n",
        "print(\"Maximun number of inversions exper max =\",max(maxinvs))\n",
        "print(\"Maximun number of inversions formula max n-1 =\",n-1)\n",
        "print(\"Maximun number of inversions exper mean =\",np.mean(maxinvs))\n",
        "print(\"Maximun number of inversions formula mean  n- math.sqrt(math.pi*n/2)=\",n- math.sqrt(math.pi*n/2))\n",
        "print(\"Maximun number of inversions exper stdev =\",np.std(maxinvs))\n",
        "print()\n",
        "\n",
        "b = np.array(range(min(comps)-1,max(comps)+2) ) +0.5\n",
        "plt.hist(comps,bins=b, color=\"red\")\n",
        "plt.title(\"Bubble Sort Comparisons\")\n",
        "plt.xlabel(\"Comparisons \")\n",
        "plt.ylabel(\"Frequency\")\n",
        "plt.show()\n",
        "\n",
        "print(\"Comparisons\") \n",
        "print(\"Comparisons formula (n-1)*n/2 =\",(n-1)*n/2)\n",
        "print(\"Comparisons exper min =\",min(comps))\n",
        "print(\"Comparisonsexper max =\",max(comps))\n",
        "print(\"Comparisons exper mean =\",np.mean(comps))\n",
        "print(\"Comparisons exper stdev =\",np.std(comps))\n",
        "print()\n",
        "\n",
        "b = np.array(range(min(swaps)-1,max(swaps)+2) ) +0.5\n",
        "plt.hist(swaps,bins=b,color=\"blue\")\n",
        "plt.title(\"Bubble Sort Swaps\")\n",
        "plt.xlabel(\"Swaps \")\n",
        "plt.ylabel(\"Frequency\")\n",
        "plt.show()\n",
        "\n",
        "print(\"Swaps\") \n",
        "print(\"Swaps exper min =\",min(swaps))\n",
        "print(\"Swaps min formula = 0\")\n",
        "print(\"Swaps exper max =\",max(swaps))\n",
        "print(\"Swaps max formula (n-1)*n/2 =\",(n-1)*n/2)\n",
        "print(\"Swaps exper mean =\",np.mean(swaps))\n",
        "print(\"Swaps mean formula (1/4*n**2)- (1/2*n)+(1/4) =\",(1/4*n**2)- (1/2*n)+(1/4))\n",
        "print(\"Swaps exper stdev =\",np.std(swaps))\n",
        "print()\n",
        "\n",
        "b = np.array(range(min(steps)-1,max(steps)+2) ) +0.5\n",
        "plt.hist(steps,bins=b,color=\"green\")\n",
        "plt.title(\"Bubble Sort Steps\")\n",
        "plt.xlabel(\"Steps \")\n",
        "plt.ylabel(\"Frequency\")\n",
        "plt.show()\n",
        "\n",
        "print(\"Steps\") \n",
        "print(\"Steps exper min =\",min(steps))\n",
        "print(\"Steps min formula (n-1)*n/2 =\",(n-1)*n/2)\n",
        "print(\"Steps exper max =\",max(steps))\n",
        "print(\"Steps max formula (n-1)*n =\",(n-1)*n)\n",
        "print(\"Steps exper mean =\",np.mean(steps))\n",
        "print(\"Steps mean formula (3/4*n**2)-n+(1/4) =\",(3/4*n**2)-n+(1/4))\n",
        "print(\"Steps exper stdev\",np.std(steps))\n",
        "print()\n",
        "\n",
        "b = np.array(range(min(passes)-1,max(passes)+2) ) +0.5\n",
        "plt.hist(passes,bins=b,color=\"brown\")\n",
        "plt.title(\"Bubble Sort Passes\")\n",
        "plt.xlabel(\"Passes\")\n",
        "plt.ylabel(\"Frequency\")\n",
        "plt.show()\n",
        "    \n",
        "print(\"Passes\") \n",
        "print(\"Passes formula (n-1) =\",(n-1))\n",
        "print(\"Passes exper min =\",min(passes))\n",
        "print(\"Passes exper max =\",max(passes))\n",
        "print(\"Passes exper mean =\",np.mean(passes))\n",
        "print(\"Passes exper stdev\",np.std(passes))"
      ],
      "execution_count": 8,
      "outputs": [
        {
          "output_type": "stream",
          "name": "stdout",
          "text": [
            "n 5\n",
            "number of permutations n! = 120\n",
            "\n"
          ]
        },
        {
          "output_type": "display_data",
          "data": {
            "text/plain": [
              "<Figure size 432x288 with 1 Axes>"
            ],
            "image/png": "[encoded data removed]"
          },
          "metadata": {
            "needs_background": "light"
          }
        },
        {
          "output_type": "stream",
          "name": "stdout",
          "text": [
            "Maximun number of inversions\n",
            "Maximun number of inversions exper min = 0\n",
            "Maximun number of inversions formula min = 0\n",
            "Maximun number of inversions exper max = 4\n",
            "Maximun number of inversions formula max n-1 = 4\n",
            "Maximun number of inversions exper mean = 2.21856\n",
            "Maximun number of inversions formula mean  n- math.sqrt(math.pi*n/2)= 2.1975043918010355\n",
            "Maximun number of inversions exper stdev = 1.031926124487601\n",
            "\n"
          ]
        },
        {
          "output_type": "display_data",
          "data": {
            "text/plain": [
              "<Figure size 432x288 with 1 Axes>"
            ],
            "image/png": "[encoded data removed]"
          },
          "metadata": {
            "needs_background": "light"
          }
        },
        {
          "output_type": "stream",
          "name": "stdout",
          "text": [
            "Comparisons\n",
            "Comparisons formula (n-1)*n/2 = 10.0\n",
            "Comparisons exper min = 4\n",
            "Comparisonsexper max = 10\n",
            "Comparisons exper mean = 8.77152\n",
            "Comparisons exper stdev = 1.485165610159352\n",
            "\n"
          ]
        },
        {
          "output_type": "display_data",
          "data": {
            "text/plain": [
              "<Figure size 432x288 with 1 Axes>"
            ],
            "image/png": "[encoded data removed]"
          },
          "metadata": {
            "needs_background": "light"
          }
        },
        {
          "output_type": "stream",
          "name": "stdout",
          "text": [
            "Swaps\n",
            "Swaps exper min = 0\n",
            "Swaps min formula = 0\n",
            "Swaps exper max = 10\n",
            "Swaps max formula (n-1)*n/2 = 10.0\n",
            "Swaps exper mean = 4.0\n",
            "Swaps mean formula (1/4*n**2)- (1/2*n)+(1/4) = 4.0\n",
            "Swaps exper stdev = 2.0\n",
            "\n"
          ]
        },
        {
          "output_type": "display_data",
          "data": {
            "text/plain": [
              "<Figure size 432x288 with 1 Axes>"
            ],
            "image/png": "[encoded data removed]"
          },
          "metadata": {
            "needs_background": "light"
          }
        },
        {
          "output_type": "stream",
          "name": "stdout",
          "text": [
            "Steps\n",
            "Steps exper min = 4\n",
            "Steps min formula (n-1)*n/2 = 10.0\n",
            "Steps exper max = 20\n",
            "Steps max formula (n-1)*n = 20\n",
            "Steps exper mean = 12.77152\n",
            "Steps mean formula (3/4*n**2)-n+(1/4) = 14.0\n",
            "Steps exper stdev 3.2691951440071607\n",
            "\n"
          ]
        },
        {
          "output_type": "display_data",
          "data": {
            "text/plain": [
              "<Figure size 432x288 with 1 Axes>"
            ],
            "image/png": "[encoded data removed]"
          },
          "metadata": {
            "needs_background": "light"
          }
        },
        {
          "output_type": "stream",
          "name": "stdout",
          "text": [
            "Passes\n",
            "Passes formula (n-1) = 4\n",
            "Passes exper min = 1\n",
            "Passes exper max = 5\n",
            "Passes exper mean = 3.21856\n",
            "Passes exper stdev 1.031926124487601\n"
          ]
        }
      ]
    },
    {
      "cell_type": "code",
      "metadata": {
        "id": "fgMx9GsOADcT"
      },
      "source": [
        "from itertools import product\n",
        "import matplotlib.pyplot as plt\n",
        "import numpy as np \n",
        "import math\n",
        "\n",
        "n = 8\n",
        "perm = product(range(1,n+1), repeat = n)\n",
        "\n",
        "comps = []\n",
        "swaps = []\n",
        "steps = []\n",
        "passes = [] \n",
        "maxinvs = []\n",
        "\n",
        "# Print the obtained permutations\n",
        "for i in perm:\n",
        "    i = list(i)\n",
        "    maxinvs.append(maxinversions(i))\n",
        "    c,sw,st,p = bubbleSortOptAllCounters(i)\n",
        "    comps.append(c)\n",
        "    swaps.append(sw)\n",
        "    steps.append(st)\n",
        "    passes.append(p)\n",
        "\n",
        "print(\"n\",n)  \n",
        "print(\"number of permutations n! =\",math.factorial(n)) \n",
        "print()\n",
        "   \n",
        "b = np.array(range(min(maxinvs)-1,max(maxinvs)+2) ) +0.5\n",
        "plt.hist(maxinvs,bins=b, color=\"cyan\")\n",
        "plt.title(\"Bubble Sort Maximun number of inversions\")\n",
        "plt.xlabel(\"Maximun number of inversions \")\n",
        "plt.ylabel(\"Frequency\")\n",
        "plt.show()\n",
        "\n",
        "print(\"Maximun number of inversions\") \n",
        "print(\"Maximun number of inversions exper min =\",min(maxinvs))\n",
        "print(\"Maximun number of inversions formula min = 0\")\n",
        "print(\"Maximun number of inversions exper max =\",max(maxinvs))\n",
        "print(\"Maximun number of inversions formula max n-1 =\",n-1)\n",
        "print(\"Maximun number of inversions exper mean =\",np.mean(maxinvs))\n",
        "print(\"Maximun number of inversions formula mean  n- math.sqrt(math.pi*n/2)=\",n- math.sqrt(math.pi*n/2))\n",
        "print(\"Maximun number of inversions exper stdev =\",np.std(maxinvs))\n",
        "print()\n",
        "\n",
        "b = np.array(range(min(comps)-1,max(comps)+2) ) +0.5\n",
        "plt.hist(comps,bins=b, color=\"red\")\n",
        "plt.title(\"Bubble Sort Comparisons\")\n",
        "plt.xlabel(\"Comparisons \")\n",
        "plt.ylabel(\"Frequency\")\n",
        "plt.show()\n",
        "\n",
        "print(\"Comparisons\") \n",
        "print(\"Comparisons formula (n-1)*n/2 =\",(n-1)*n/2)\n",
        "print(\"Comparisons exper min =\",min(comps))\n",
        "print(\"Comparisonsexper max =\",max(comps))\n",
        "print(\"Comparisons exper mean =\",np.mean(comps))\n",
        "print(\"Comparisons exper stdev =\",np.std(comps))\n",
        "print()\n",
        "\n",
        "b = np.array(range(min(swaps)-1,max(swaps)+2) ) +0.5\n",
        "plt.hist(swaps,bins=b,color=\"blue\")\n",
        "plt.title(\"Bubble Sort Swaps\")\n",
        "plt.xlabel(\"Swaps \")\n",
        "plt.ylabel(\"Frequency\")\n",
        "plt.show()\n",
        "\n",
        "print(\"Swaps\") \n",
        "print(\"Swaps exper min =\",min(swaps))\n",
        "print(\"Swaps min formula = 0\")\n",
        "print(\"Swaps exper max =\",max(swaps))\n",
        "print(\"Swaps max formula (n-1)*n/2 =\",(n-1)*n/2)\n",
        "print(\"Swaps exper mean =\",np.mean(swaps))\n",
        "print(\"Swaps mean formula (1/4*n**2)- (1/2*n)+(1/4) =\",(1/4*n**2)- (1/2*n)+(1/4))\n",
        "print(\"Swaps exper stdev =\",np.std(swaps))\n",
        "print()\n",
        "\n",
        "b = np.array(range(min(steps)-1,max(steps)+2) ) +0.5\n",
        "plt.hist(steps,bins=b,color=\"green\")\n",
        "plt.title(\"Bubble Sort Steps\")\n",
        "plt.xlabel(\"Steps \")\n",
        "plt.ylabel(\"Frequency\")\n",
        "plt.show()\n",
        "\n",
        "print(\"Steps\") \n",
        "print(\"Steps exper min =\",min(steps))\n",
        "print(\"Steps min formula (n-1)*n/2 =\",(n-1)*n/2)\n",
        "print(\"Steps exper max =\",max(steps))\n",
        "print(\"Steps max formula (n-1)*n =\",(n-1)*n)\n",
        "print(\"Steps exper mean =\",np.mean(steps))\n",
        "print(\"Steps mean formula (3/4*n**2)-n+(1/4) =\",(3/4*n**2)-n+(1/4))\n",
        "print(\"Steps exper stdev\",np.std(steps))\n",
        "print()\n",
        "\n",
        "b = np.array(range(min(passes)-1,max(passes)+2) ) +0.5\n",
        "plt.hist(passes,bins=b,color=\"brown\")\n",
        "plt.title(\"Bubble Sort Passes\")\n",
        "plt.xlabel(\"Passes\")\n",
        "plt.ylabel(\"Frequency\")\n",
        "plt.show()\n",
        "    \n",
        "print(\"Passes\") \n",
        "print(\"Passes formula (n-1) =\",(n-1))\n",
        "print(\"Passes exper min =\",min(passes))\n",
        "print(\"Passes exper max =\",max(passes))\n",
        "print(\"Passes exper mean =\",np.mean(passes))\n",
        "print(\"Passes exper stdev\",np.std(passes))"
      ],
      "execution_count": null,
      "outputs": []
    },
    {
      "cell_type": "code",
      "metadata": {
        "id": "Nr6BRG-1bdSs"
      },
      "source": [
        "from itertools import product\n",
        "import matplotlib.pyplot as plt\n",
        "import numpy as np \n",
        "\n",
        "n = 3\n",
        "perm = product(range(1,n+1), repeat = n)\n",
        "\n",
        "times =  [] \n",
        "# Print the obtained permutations\n",
        "for i in perm:\n",
        "    i = list(i)\n",
        "    times.append(bubbleSortNotOptSteps(i))\n",
        "\n",
        "b = np.array(range(min(steps)-1,max(steps)+2) ) +0.5\n",
        "plt.hist(steps,bins=b,color=\"green\")\n",
        "plt.title(\"Bubble Sort Steps\")\n",
        "plt.xlabel(\"Steps \")\n",
        "plt.ylabel(\"Frequency\")\n",
        "plt.show()\n",
        "\n",
        "print(\"Steps\") \n",
        "print(\"Steps exper min =\",min(steps))\n",
        "print(\"Steps min formula (n-1)*n/2 =\",(n-1)*n/2)\n",
        "print(\"Steps exper max =\",max(steps))\n",
        "print(\"Steps max formula (n-1)*n =\",(n-1)*n)\n",
        "print(\"Steps exper mean =\",np.mean(steps))\n",
        "print(\"Steps mean formula (3/4*n**2)-n+(1/4) =\",(3/4*n**2)-n+(1/4))\n",
        "print(\"Steps exper stdev\",np.std(steps))\n",
        "print()"
      ],
      "execution_count": null,
      "outputs": []
    },
    {
      "cell_type": "code",
      "metadata": {
        "id": "zKMWnXF5gjid"
      },
      "source": [
        "from itertools import product\n",
        "import matplotlib.pyplot as plt\n",
        "import numpy as np \n",
        "\n",
        "n = 5\n",
        "perm = product(range(1,n+1), repeat = n)\n",
        "\n",
        "times =  [] \n",
        "# Print the obtained permutations\n",
        "for i in perm:\n",
        "    i = list(i)\n",
        "    times.append(bubbleSortNotOptSteps(i))\n",
        "\n",
        "b = np.array(range(min(steps)-1,max(steps)+2) ) +0.5\n",
        "plt.hist(steps,bins=b,color=\"green\")\n",
        "plt.title(\"Bubble Sort Steps\")\n",
        "plt.xlabel(\"Steps \")\n",
        "plt.ylabel(\"Frequency\")\n",
        "plt.show()\n",
        "\n",
        "print(\"Steps\") \n",
        "print(\"Steps exper min =\",min(steps))\n",
        "print(\"Steps min formula (n-1)*n/2 =\",(n-1)*n/2)\n",
        "print(\"Steps exper max =\",max(steps))\n",
        "print(\"Steps max formula (n-1)*n =\",(n-1)*n)\n",
        "print(\"Steps exper mean =\",np.mean(steps))\n",
        "print(\"Steps mean formula (3/4*n**2)-n+(1/4) =\",(3/4*n**2)-n+(1/4))\n",
        "print(\"Steps exper stdev\",np.std(steps))\n",
        "print()"
      ],
      "execution_count": null,
      "outputs": []
    },
    {
      "cell_type": "code",
      "metadata": {
        "id": "lwBDi5ihhIPh"
      },
      "source": [
        "from itertools import product\n",
        "import matplotlib.pyplot as plt\n",
        "import numpy as np \n",
        "\n",
        "n = 8\n",
        "perm = product(range(1,n+1), repeat = n)\n",
        "\n",
        "times =  [] \n",
        "# Print the obtained permutations\n",
        "for i in list(perm):\n",
        "    i = list(i)\n",
        "    times.append(bubbleSortNotOptSteps(i))\n",
        "\n",
        "b = np.array(range(min(steps)-1,max(steps)+2) ) +0.5\n",
        "plt.hist(steps,bins=b,color=\"green\")\n",
        "plt.title(\"Bubble Sort Steps\")\n",
        "plt.xlabel(\"Steps \")\n",
        "plt.ylabel(\"Frequency\")\n",
        "plt.show()\n",
        "\n",
        "print(\"Steps\") \n",
        "print(\"Steps exper min =\",min(steps))\n",
        "print(\"Steps min formula (n-1)*n/2 =\",(n-1)*n/2)\n",
        "print(\"Steps exper max =\",max(steps))\n",
        "print(\"Steps max formula (n-1)*n =\",(n-1)*n)\n",
        "print(\"Steps exper mean =\",np.mean(steps))\n",
        "print(\"Steps mean formula (3/4*n**2)-n+(1/4) =\",(3/4*n**2)-n+(1/4))\n",
        "print(\"Steps exper stdev\",np.std(steps))\n",
        "print()"
      ],
      "execution_count": null,
      "outputs": []
    },
    {
      "cell_type": "code",
      "metadata": {
        "id": "p_H8_E3eBp2v"
      },
      "source": [
        "from itertools import product\n",
        "import numpy as np\n",
        "import matplotlib.pyplot as plt\n",
        "from mpl_toolkits.mplot3d import Axes3D\n",
        "import random \n",
        "\n",
        "fig = plt.figure()\n",
        "ax = plt.axes(projection=\"3d\")\n",
        "\n",
        "N = 8\n",
        "\n",
        "x = []\n",
        "y = []\n",
        "z = []\n",
        "dx = []\n",
        "dy = []\n",
        "dz = []\n",
        "\n",
        "for n in np.arange(3,N+1,1):\n",
        "   A = range(n)\n",
        "   times = []\n",
        "\n",
        "   for P in  product(A, repeat = n):\n",
        "       t = bubbleSortNotOptSteps(list(P)) \n",
        "       times.append(t)  \n",
        " \n",
        "   b = np.array(range(min(times)-1, max(times)+1))+0.5\n",
        "   H = np.array(np.histogram(times,b))\n",
        "   H[0] = H[0]/np.sum(H[0])\n",
        "   for i in range(len(H[0])):\n",
        "     x.append(n)\n",
        "     y.append(H[1][i])\n",
        "     z.append(0)\n",
        "     dx.append(0.1)\n",
        "     dy.append(0.1)\n",
        "     dz.append(H[0][i])\n",
        "\n",
        "ax.bar3d(x, y, z, dx, dy, dz, color='palegreen', zsort='average')\n",
        "plt.show()"
      ],
      "execution_count": null,
      "outputs": []
    },
    {
      "cell_type": "code",
      "metadata": {
        "id": "iSJOueauPVeu"
      },
      "source": [
        "from itertools import product\n",
        "import numpy as np\n",
        "import matplotlib.pyplot as plt\n",
        "from mpl_toolkits.mplot3d import Axes3D\n",
        "import random \n",
        "\n",
        "fig = plt.figure()\n",
        "ax = plt.axes(projection=\"3d\")\n",
        "\n",
        "N = 8\n",
        "\n",
        "x = []\n",
        "y = []\n",
        "z = []\n",
        "dx = []\n",
        "dy = []\n",
        "dz = []\n",
        "\n",
        "for n in np.arange(3,N+1,1):\n",
        "   A = range(n)\n",
        "   times = []\n",
        "\n",
        "   for P in  product(A, repeat = n):\n",
        "       t = bubbleSortNotOptSteps(list(P)) \n",
        "       times.append(t)  \n",
        " \n",
        "   b = np.array(range(min(times)-1, max(times)+1))+0.5\n",
        "   H = np.array(np.histogram(times,b))\n",
        "   H[0] = H[0]/np.sum(H[0])\n",
        "   for i in range(len(H[0])):\n",
        "     x.append(n)\n",
        "     y.append(H[1][i])\n",
        "     z.append(0)\n",
        "     dx.append(0.1)\n",
        "     dy.append(0.1)\n",
        "     dz.append(H[0][i])\n",
        "\n",
        "ax.view_init(30, 15)\n",
        "ax.bar3d(x, y, z, dx, dy, dz, color='palegreen', zsort='average')\n",
        "plt.show()\n",
        "\n"
      ],
      "execution_count": null,
      "outputs": []
    },
    {
      "cell_type": "code",
      "metadata": {
        "id": "yXfT0a97QI_G"
      },
      "source": [
        "import matplotlib.pyplot as plt\n",
        "import numpy as np\n",
        "\n",
        "n = np.arange(1,21,1)\n",
        "\n",
        "plt.plot(n, (n-1)*n,  label = 'Bubble sort worst time $(n-1)*n$', color='darkgreen')\n",
        "plt.plot(n, (3/4*n**2)-n+(1/4), label = 'Bubble sort average time $(3/4*n**2)-n+(1/4)$', color='green')\n",
        "plt.plot(n, (n-1)*n/2, label = 'Bubble sort best time $(n-1)*n/2$',color='lightgreen')\n",
        "plt.xlabel('Array size')\n",
        "plt.ylabel('Steps')\n",
        "plt.legend(loc = 'upper left')"
      ],
      "execution_count": null,
      "outputs": []
    },
    {
      "cell_type": "markdown",
      "metadata": {
        "id": "SYU6m43l5QPx"
      },
      "source": [
        "# Average case - expected number of comparisons + swaps on random unifrom permtation of n   elements with repetitions \n",
        "\n",
        "$$t_a(n) = \\frac{3}{4}n^2 - n +\\frac{1}{4}= \\Theta(n^2) $$"
      ]
    },
    {
      "cell_type": "code",
      "metadata": {
        "id": "foPLijZz5aGX"
      },
      "source": [
        "# Average case on random unifrom permutation of $n$ elements with repetitions $t_a(n) = \\frac{3}{4}n^2 - n +\\frac{1}{4}= \\Theta(n^2) $\n",
        "import numpy as np \n",
        "import pandas as pd\n",
        "import scipy.linalg as la\n",
        "\n",
        "n = np.array([3.0,4.0,5.0,6.0])    # Number n of sorted elments \n",
        "t = np.array([4.0 ,8.25,14.0,21.25]) # Average comparisons + swaps for the corresponding n \n",
        "\n",
        "data = pd.DataFrame({'n': n, 't': t})\n",
        "data\n"
      ],
      "execution_count": null,
      "outputs": []
    },
    {
      "cell_type": "code",
      "metadata": {
        "id": "-1Z8g4WV6JOO"
      },
      "source": [
        "# Interpolating a polynomial of degree 3\n",
        "\n",
        "X = np.column_stack([n**0,n**1,n**2,n**3])\n",
        "a = la.solve(X,t)\n",
        "a"
      ],
      "execution_count": null,
      "outputs": []
    }
  ]
}
